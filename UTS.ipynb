{
  "nbformat": 4,
  "nbformat_minor": 0,
  "metadata": {
    "colab": {
      "provenance": []
    },
    "kernelspec": {
      "name": "python3",
      "display_name": "Python 3"
    },
    "language_info": {
      "name": "python"
    }
  },
  "cells": [
    {
      "cell_type": "markdown",
      "source": [
        "## Nama: Muhammad Zhafar Al Fathi\n",
        "## NIM: 21.11.4374\n",
        "## Kelas: 21-IF-08"
      ],
      "metadata": {
        "id": "Mr5s5t0NHLwZ"
      }
    },
    {
      "cell_type": "code",
      "execution_count": 2,
      "metadata": {
        "colab": {
          "base_uri": "https://localhost:8080/",
          "height": 0
        },
        "id": "OhzDbMv8G8uT",
        "outputId": "a4363425-028f-4867-d5fd-737bd09c0d09"
      },
      "outputs": [
        {
          "output_type": "stream",
          "name": "stdout",
          "text": [
            "Collecting pyspark\n",
            "  Downloading pyspark-3.5.0.tar.gz (316.9 MB)\n",
            "\u001b[2K     \u001b[90m━━━━━━━━━━━━━━━━━━━━━━━━━━━━━━━━━━━━━━━━\u001b[0m \u001b[32m316.9/316.9 MB\u001b[0m \u001b[31m4.1 MB/s\u001b[0m eta \u001b[36m0:00:00\u001b[0m\n",
            "\u001b[?25h  Preparing metadata (setup.py) ... \u001b[?25l\u001b[?25hdone\n",
            "Requirement already satisfied: py4j==0.10.9.7 in /usr/local/lib/python3.10/dist-packages (from pyspark) (0.10.9.7)\n",
            "Building wheels for collected packages: pyspark\n",
            "  Building wheel for pyspark (setup.py) ... \u001b[?25l\u001b[?25hdone\n",
            "  Created wheel for pyspark: filename=pyspark-3.5.0-py2.py3-none-any.whl size=317425344 sha256=faefdcd7d2e6113e6a36c369468581b3834638f3f8c9966082efd2bcbfd4f2e6\n",
            "  Stored in directory: /root/.cache/pip/wheels/41/4e/10/c2cf2467f71c678cfc8a6b9ac9241e5e44a01940da8fbb17fc\n",
            "Successfully built pyspark\n",
            "Installing collected packages: pyspark\n",
            "Successfully installed pyspark-3.5.0\n"
          ]
        }
      ],
      "source": [
        "!pip install pyspark"
      ]
    },
    {
      "cell_type": "code",
      "source": [
        "from google.colab import drive\n",
        "drive.mount(\"/content/drive\")"
      ],
      "metadata": {
        "colab": {
          "base_uri": "https://localhost:8080/",
          "height": 0
        },
        "id": "FMmuQ1v2HIMW",
        "outputId": "35a0677d-958d-4b59-c9ec-deda2724e8aa"
      },
      "execution_count": 3,
      "outputs": [
        {
          "output_type": "stream",
          "name": "stdout",
          "text": [
            "Mounted at /content/drive\n"
          ]
        }
      ]
    },
    {
      "cell_type": "code",
      "source": [
        "from pyspark.sql import SparkSession\n",
        "spark = SparkSession.builder.getOrCreate()\n",
        "sc = spark.sparkContext"
      ],
      "metadata": {
        "id": "Pz9jDClMHJwN"
      },
      "execution_count": 4,
      "outputs": []
    },
    {
      "cell_type": "markdown",
      "source": [
        "## 1. Dengan menggunakan Python dan Spark, unduh dataset berikut ini https://www.kaggle.com/datasets/salvatorerastelli/spotify-and-youtube/data (SCPMK 1534103 point 20)\n",
        "### Panggil dan tampilkan lima baris pertama dari dataset tersebut, lalu buat program untuk memeriksa tipe data dari masing-masing kolom, menghitung jumlah null, mendapatkan nilai deskripsi secara umum, dan melakukan perbaikan pada penamaan kolom."
      ],
      "metadata": {
        "id": "jQIDqxYaP1QM"
      }
    },
    {
      "cell_type": "code",
      "source": [
        "import pandas as pd"
      ],
      "metadata": {
        "id": "a4iOUiLoKLEY"
      },
      "execution_count": 5,
      "outputs": []
    },
    {
      "cell_type": "markdown",
      "source": [
        "### Membaca csv melalui pandas dikarenakan jika langsung lewat spark akan terjadi error"
      ],
      "metadata": {
        "id": "DMZn7v3GWO_9"
      }
    },
    {
      "cell_type": "code",
      "source": [
        "pandas_df = pd.read_csv('/content/drive/MyDrive/File Kuliah/Tugas/Semester 5/Big Data & Predictive Analytics Lanjut/Spotify_Youtube.csv')\n",
        "pandas_df.info()"
      ],
      "metadata": {
        "colab": {
          "base_uri": "https://localhost:8080/",
          "height": 0
        },
        "id": "EMqNVLXKJLjj",
        "outputId": "5c97b0cf-c408-4cfb-e5ed-d220510a9586"
      },
      "execution_count": 6,
      "outputs": [
        {
          "output_type": "stream",
          "name": "stdout",
          "text": [
            "<class 'pandas.core.frame.DataFrame'>\n",
            "RangeIndex: 20718 entries, 0 to 20717\n",
            "Data columns (total 28 columns):\n",
            " #   Column            Non-Null Count  Dtype  \n",
            "---  ------            --------------  -----  \n",
            " 0   Unnamed: 0        20718 non-null  int64  \n",
            " 1   Artist            20718 non-null  object \n",
            " 2   Url_spotify       20718 non-null  object \n",
            " 3   Track             20718 non-null  object \n",
            " 4   Album             20718 non-null  object \n",
            " 5   Album_type        20718 non-null  object \n",
            " 6   Uri               20718 non-null  object \n",
            " 7   Danceability      20716 non-null  float64\n",
            " 8   Energy            20716 non-null  float64\n",
            " 9   Key               20716 non-null  float64\n",
            " 10  Loudness          20716 non-null  float64\n",
            " 11  Speechiness       20716 non-null  float64\n",
            " 12  Acousticness      20716 non-null  float64\n",
            " 13  Instrumentalness  20716 non-null  float64\n",
            " 14  Liveness          20716 non-null  float64\n",
            " 15  Valence           20716 non-null  float64\n",
            " 16  Tempo             20716 non-null  float64\n",
            " 17  Duration_ms       20716 non-null  float64\n",
            " 18  Url_youtube       20248 non-null  object \n",
            " 19  Title             20248 non-null  object \n",
            " 20  Channel           20248 non-null  object \n",
            " 21  Views             20248 non-null  float64\n",
            " 22  Likes             20177 non-null  float64\n",
            " 23  Comments          20149 non-null  float64\n",
            " 24  Description       19842 non-null  object \n",
            " 25  Licensed          20248 non-null  object \n",
            " 26  official_video    20248 non-null  object \n",
            " 27  Stream            20142 non-null  float64\n",
            "dtypes: float64(15), int64(1), object(12)\n",
            "memory usage: 4.4+ MB\n"
          ]
        }
      ]
    },
    {
      "cell_type": "markdown",
      "source": [
        "### Melakukan Konversi dari dataframe pandas ke pyspark"
      ],
      "metadata": {
        "id": "qAuG5JIlWJ4y"
      }
    },
    {
      "cell_type": "code",
      "source": [
        "from pyspark.sql.types import StructType, StructField, IntegerType, DoubleType, StringType\n",
        "\n",
        "# Membuat schema (blueprint) supaya spark mengetahui kolom dan apa saja yang ada di dataframe\n",
        "schema = StructType([\n",
        "    StructField(\"Number\", IntegerType(), True),\n",
        "    StructField(\"Artist\", StringType(), True),\n",
        "    StructField(\"Url_spotify\", StringType(), True),\n",
        "    StructField(\"Track\", StringType(), True),\n",
        "    StructField(\"Album\", StringType(), True),\n",
        "    StructField(\"Album_type\", StringType(), True),\n",
        "    StructField(\"Uri\", StringType(), True),\n",
        "    StructField(\"Danceability\", DoubleType(), True),\n",
        "    StructField(\"Energy\", DoubleType(), True),\n",
        "    StructField(\"Key\", DoubleType(), True),\n",
        "    StructField(\"Loudness\", DoubleType(), True),\n",
        "    StructField(\"Speechiness\", DoubleType(), True),\n",
        "    StructField(\"Acousticness\", DoubleType(), True),\n",
        "    StructField(\"Instrumentalness\", DoubleType(), True),\n",
        "    StructField(\"Liveness\", DoubleType(), True),\n",
        "    StructField(\"Valence\", DoubleType(), True),\n",
        "    StructField(\"Tempo\", DoubleType(), True),\n",
        "    StructField(\"Duration_ms\", DoubleType(), True),\n",
        "    StructField(\"Url_youtube\", StringType(), True),\n",
        "    StructField(\"Title\", StringType(), True),\n",
        "    StructField(\"Channel\", StringType(), True),\n",
        "    StructField(\"Views\", DoubleType(), True),\n",
        "    StructField(\"Likes\", DoubleType(), True),\n",
        "    StructField(\"Comments\", DoubleType(), True),\n",
        "    StructField(\"Description\", StringType(), True),\n",
        "    StructField(\"Licensed\", StringType(), True),\n",
        "    StructField(\"official_video\", StringType(), True),\n",
        "    StructField(\"Stream\", DoubleType(), True)\n",
        "])\n",
        "\n",
        "# Load your Pandas DataFrame into a PySpark DataFrame with the specified schema\n",
        "spark_df = spark.createDataFrame(pandas_df, schema=schema)"
      ],
      "metadata": {
        "id": "7deXLoYVM4lS"
      },
      "execution_count": 7,
      "outputs": []
    },
    {
      "cell_type": "markdown",
      "source": [
        "### Melakukan drop pada kolom \"Description\" karena kolom tidak diperlukan dan bikin lemot"
      ],
      "metadata": {
        "id": "FCH-LRAGTBh-"
      }
    },
    {
      "cell_type": "code",
      "source": [
        "spark_df = spark_df.drop(\"Description\")"
      ],
      "metadata": {
        "id": "HGcO-6udSTmM"
      },
      "execution_count": 8,
      "outputs": []
    },
    {
      "cell_type": "markdown",
      "source": [
        "### Menampilkan 5 baris pertama dataframe"
      ],
      "metadata": {
        "id": "KCiH-pQ6WGb4"
      }
    },
    {
      "cell_type": "code",
      "source": [
        "spark_df.show(5)"
      ],
      "metadata": {
        "colab": {
          "base_uri": "https://localhost:8080/",
          "height": 0
        },
        "id": "WzjRJALXON6M",
        "outputId": "1df49585-c7d1-40c7-b68a-70c894eb51b2"
      },
      "execution_count": 9,
      "outputs": [
        {
          "output_type": "stream",
          "name": "stdout",
          "text": [
            "+------+--------+--------------------+--------------------+--------------------+----------+--------------------+------------+------+----+--------+-----------+------------+----------------+--------+-------+-------+-----------+--------------------+--------------------+--------+------------+---------+--------+--------+--------------+-------------+\n",
            "|Number|  Artist|         Url_spotify|               Track|               Album|Album_type|                 Uri|Danceability|Energy| Key|Loudness|Speechiness|Acousticness|Instrumentalness|Liveness|Valence|  Tempo|Duration_ms|         Url_youtube|               Title| Channel|       Views|    Likes|Comments|Licensed|official_video|       Stream|\n",
            "+------+--------+--------------------+--------------------+--------------------+----------+--------------------+------------+------+----+--------+-----------+------------+----------------+--------+-------+-------+-----------+--------------------+--------------------+--------+------------+---------+--------+--------+--------------+-------------+\n",
            "|     0|Gorillaz|https://open.spot...|      Feel Good Inc.|          Demon Days|     album|spotify:track:0d2...|       0.818| 0.705| 6.0|  -6.679|      0.177|     0.00836|         0.00233|   0.613|  0.772|138.559|   222640.0|https://www.youtu...|Gorillaz - Feel G...|Gorillaz|6.93555221E8|6220896.0|169907.0|    true|          true|1.040234854E9|\n",
            "|     1|Gorillaz|https://open.spot...|     Rhinestone Eyes|       Plastic Beach|     album|spotify:track:1fo...|       0.676| 0.703| 8.0|  -5.815|     0.0302|      0.0869|         6.87E-4|  0.0463|  0.852| 92.761|   200173.0|https://www.youtu...|Gorillaz - Rhines...|Gorillaz| 7.2011645E7|1079128.0| 31003.0|    true|          true| 3.10083733E8|\n",
            "|     2|Gorillaz|https://open.spot...|New Gold (feat. T...|New Gold (feat. T...|    single|spotify:track:64d...|       0.695| 0.923| 1.0|   -3.93|     0.0522|      0.0425|          0.0469|   0.116|  0.551|108.014|   215150.0|https://www.youtu...|Gorillaz - New Go...|Gorillaz|   8435055.0| 282142.0|  7399.0|    true|          true|  6.3063467E7|\n",
            "|     3|Gorillaz|https://open.spot...|  On Melancholy Hill|       Plastic Beach|     album|spotify:track:0q6...|       0.689| 0.739| 2.0|   -5.81|      0.026|     1.51E-5|           0.509|   0.064|  0.578|120.423|   233867.0|https://www.youtu...|Gorillaz - On Mel...|Gorillaz|2.11754952E8|1788577.0| 55229.0|    true|          true| 4.34663559E8|\n",
            "|     4|Gorillaz|https://open.spot...|      Clint Eastwood|            Gorillaz|     album|spotify:track:7yM...|       0.663| 0.694|10.0|  -8.627|      0.171|      0.0253|             0.0|  0.0698|  0.525|167.953|   340920.0|https://www.youtu...|Gorillaz - Clint ...|Gorillaz|6.18480958E8|6197318.0|155930.0|    true|          true| 6.17259738E8|\n",
            "+------+--------+--------------------+--------------------+--------------------+----------+--------------------+------------+------+----+--------+-----------+------------+----------------+--------+-------+-------+-----------+--------------------+--------------------+--------+------------+---------+--------+--------+--------------+-------------+\n",
            "only showing top 5 rows\n",
            "\n"
          ]
        }
      ]
    },
    {
      "cell_type": "markdown",
      "source": [
        "### Deskripsi Umum"
      ],
      "metadata": {
        "id": "vrH5xC5JWEBg"
      }
    },
    {
      "cell_type": "code",
      "source": [
        "spark_df.describe().show()"
      ],
      "metadata": {
        "colab": {
          "base_uri": "https://localhost:8080/",
          "height": 0
        },
        "id": "yBC19IZ5V8_D",
        "outputId": "85380cca-0a98-4b52-8a34-212e28550a34"
      },
      "execution_count": 10,
      "outputs": [
        {
          "output_type": "stream",
          "name": "stdout",
          "text": [
            "+-------+----------------+--------+--------------------+----------------------+----------------------------------+----------+--------------------+------------+-------+-----+--------+-----------+------------+----------------+--------+-------+-----+-----------+--------------------+--------------------+--------------------+-----+-----+--------+--------+--------------+------+\n",
            "|summary|          Number|  Artist|         Url_spotify|                 Track|                             Album|Album_type|                 Uri|Danceability| Energy|  Key|Loudness|Speechiness|Acousticness|Instrumentalness|Liveness|Valence|Tempo|Duration_ms|         Url_youtube|               Title|             Channel|Views|Likes|Comments|Licensed|official_video|Stream|\n",
            "+-------+----------------+--------+--------------------+----------------------+----------------------------------+----------+--------------------+------------+-------+-----+--------+-----------+------------+----------------+--------+-------+-----+-----------+--------------------+--------------------+--------------------+-----+-----+--------+--------+--------------+------+\n",
            "|  count|           20718|   20718|               20718|                 20718|                             20718|     20718|               20718|       20718|  20718|20718|   20718|      20718|       20718|           20718|   20718|  20718|20718|      20718|               20718|               20718|               20718|20718|20718|   20718|   20718|         20718| 20718|\n",
            "|   mean|         10358.5|   112.0|                NULL|              Infinity|                          Infinity|      NULL|                NULL|         NaN|    NaN|  NaN|     NaN|        NaN|         NaN|             NaN|     NaN|    NaN|  NaN|        NaN|                 NaN|                 NaN|                 NaN|  NaN|  NaN|     NaN|     NaN|           NaN|   NaN|\n",
            "| stddev|5980.91577436098|     0.0|                NULL|                   NaN|                               NaN|      NULL|                NULL|         NaN|    NaN|  NaN|     NaN|        NaN|         NaN|             NaN|     NaN|    NaN|  NaN|        NaN|                 NaN|                 NaN|                 NaN|  NaN|  NaN|     NaN|     NaN|           NaN|   NaN|\n",
            "|    min|               0|    $NOT|https://open.spot...|      !ly (feat. Coez)|              !Volare! The Very...|     album|spotify:track:001...|         0.0|2.03E-5|  0.0| -46.251|        0.0|     1.11E-6|             0.0|  0.0145|    0.0|  0.0|    30985.0|                 NaN|\" LOS MUROS CAERÁ...|        Khalkho 4119|  0.0|  0.0|     0.0|     NaN|           NaN|6574.0|\n",
            "|    max|           20717|Øneheart|https://open.spot...|링가링가 (RINGA LINGA)|龍が如く0 誓いの場所 オリジナル...|    single|spotify:track:7zy...|         NaN|    NaN|  NaN|     NaN|        NaN|         NaN|             NaN|     NaN|    NaN|  NaN|        NaN|https://www.youtu...|🔴 Alejandra Guzm...|𝙖𝙙𝙧𝙚𝙣𝙖𝙡𝙞𝙣𝙣|  NaN|  NaN|     NaN|    true|          true|   NaN|\n",
            "+-------+----------------+--------+--------------------+----------------------+----------------------------------+----------+--------------------+------------+-------+-----+--------+-----------+------------+----------------+--------+-------+-----+-----------+--------------------+--------------------+--------------------+-----+-----+--------+--------+--------------+------+\n",
            "\n"
          ]
        }
      ]
    },
    {
      "cell_type": "markdown",
      "source": [
        "### Mengetahui tipe data dan jumlah null pada tiap kolom"
      ],
      "metadata": {
        "id": "c4Ch7YfUW44t"
      }
    },
    {
      "cell_type": "code",
      "source": [
        "from pyspark.sql.functions import col, isnan, when, count\n",
        "column_data_types = spark_df.dtypes\n",
        "\n",
        "for column_name, data_type in column_data_types:\n",
        "  null_count = spark_df.select(count(when(isnan(column_name) | col(column_name).isNull(), column_name))).collect()[0][0]\n",
        "  print(f\"Kolom '{column_name}' tipe datanya adalah '{data_type}', jumlah null: {null_count}\")"
      ],
      "metadata": {
        "colab": {
          "base_uri": "https://localhost:8080/",
          "height": 0
        },
        "id": "_5SgFEyrOgG5",
        "outputId": "a033e61a-b970-4df3-b301-f414d652ee5b"
      },
      "execution_count": 11,
      "outputs": [
        {
          "output_type": "stream",
          "name": "stdout",
          "text": [
            "Kolom 'Number' tipe datanya adalah 'int', jumlah null: 0\n",
            "Kolom 'Artist' tipe datanya adalah 'string', jumlah null: 0\n",
            "Kolom 'Url_spotify' tipe datanya adalah 'string', jumlah null: 0\n",
            "Kolom 'Track' tipe datanya adalah 'string', jumlah null: 0\n",
            "Kolom 'Album' tipe datanya adalah 'string', jumlah null: 0\n",
            "Kolom 'Album_type' tipe datanya adalah 'string', jumlah null: 0\n",
            "Kolom 'Uri' tipe datanya adalah 'string', jumlah null: 0\n",
            "Kolom 'Danceability' tipe datanya adalah 'double', jumlah null: 2\n",
            "Kolom 'Energy' tipe datanya adalah 'double', jumlah null: 2\n",
            "Kolom 'Key' tipe datanya adalah 'double', jumlah null: 2\n",
            "Kolom 'Loudness' tipe datanya adalah 'double', jumlah null: 2\n",
            "Kolom 'Speechiness' tipe datanya adalah 'double', jumlah null: 2\n",
            "Kolom 'Acousticness' tipe datanya adalah 'double', jumlah null: 2\n",
            "Kolom 'Instrumentalness' tipe datanya adalah 'double', jumlah null: 2\n",
            "Kolom 'Liveness' tipe datanya adalah 'double', jumlah null: 2\n",
            "Kolom 'Valence' tipe datanya adalah 'double', jumlah null: 2\n",
            "Kolom 'Tempo' tipe datanya adalah 'double', jumlah null: 2\n",
            "Kolom 'Duration_ms' tipe datanya adalah 'double', jumlah null: 2\n",
            "Kolom 'Url_youtube' tipe datanya adalah 'string', jumlah null: 470\n",
            "Kolom 'Title' tipe datanya adalah 'string', jumlah null: 470\n",
            "Kolom 'Channel' tipe datanya adalah 'string', jumlah null: 470\n",
            "Kolom 'Views' tipe datanya adalah 'double', jumlah null: 470\n",
            "Kolom 'Likes' tipe datanya adalah 'double', jumlah null: 541\n",
            "Kolom 'Comments' tipe datanya adalah 'double', jumlah null: 569\n",
            "Kolom 'Licensed' tipe datanya adalah 'string', jumlah null: 470\n",
            "Kolom 'official_video' tipe datanya adalah 'string', jumlah null: 470\n",
            "Kolom 'Stream' tipe datanya adalah 'double', jumlah null: 576\n"
          ]
        }
      ]
    },
    {
      "cell_type": "markdown",
      "source": [
        "## Lakukan beberapa eksplorasi data dengan : ( SCPMK 1534104 point 70)\n",
        "### Tampilkan ringkasan statistik dari atribut 'Danceability', 'Energy', dan 'Valence'. Berikan interpretasi atas distribusi nilai-nilai tersebut."
      ],
      "metadata": {
        "id": "obF9Obl4QiuP"
      }
    },
    {
      "cell_type": "markdown",
      "source": [
        "### Pre-processing"
      ],
      "metadata": {
        "id": "GBK5dxa6YjeF"
      }
    },
    {
      "cell_type": "code",
      "source": [
        "spark_df = spark_df.na.drop(subset=['Danceability', 'Energy', 'Valence', 'Tempo'])"
      ],
      "metadata": {
        "id": "jL8UCeNSYnxY"
      },
      "execution_count": 12,
      "outputs": []
    },
    {
      "cell_type": "markdown",
      "source": [
        "### Ringkasan Statistik kolom Danceability"
      ],
      "metadata": {
        "id": "3ssumWJEXUGM"
      }
    },
    {
      "cell_type": "code",
      "source": [
        "danceability_summary = spark_df.select('Danceability').summary()\n",
        "danceability_summary.show()"
      ],
      "metadata": {
        "colab": {
          "base_uri": "https://localhost:8080/",
          "height": 0
        },
        "id": "ySH0KhyRRTWm",
        "outputId": "3c772732-b58c-49fa-9588-21d443ddd26d"
      },
      "execution_count": 13,
      "outputs": [
        {
          "output_type": "stream",
          "name": "stdout",
          "text": [
            "+-------+------------------+\n",
            "|summary|      Danceability|\n",
            "+-------+------------------+\n",
            "|  count|             20716|\n",
            "|   mean|0.6197774522108531|\n",
            "| stddev|0.1652723889398379|\n",
            "|    min|               0.0|\n",
            "|    25%|             0.518|\n",
            "|    50%|             0.637|\n",
            "|    75%|              0.74|\n",
            "|    max|             0.975|\n",
            "+-------+------------------+\n",
            "\n"
          ]
        }
      ]
    },
    {
      "cell_type": "markdown",
      "source": [
        "### Ringkasan Statistik kolom Energy"
      ],
      "metadata": {
        "id": "n-mM2bTtX1lG"
      }
    },
    {
      "cell_type": "code",
      "source": [
        "energy_summary = spark_df.select('Energy').summary()\n",
        "energy_summary.show()"
      ],
      "metadata": {
        "colab": {
          "base_uri": "https://localhost:8080/",
          "height": 0
        },
        "id": "LYBZ9AMLXgsO",
        "outputId": "324b5cfb-b6c0-4d50-c040-2b76c6571313"
      },
      "execution_count": 14,
      "outputs": [
        {
          "output_type": "stream",
          "name": "stdout",
          "text": [
            "+-------+-------------------+\n",
            "|summary|             Energy|\n",
            "+-------+-------------------+\n",
            "|  count|              20716|\n",
            "|   mean| 0.6352503492131687|\n",
            "| stddev|0.21414683000068666|\n",
            "|    min|            2.03E-5|\n",
            "|    25%|              0.507|\n",
            "|    50%|              0.666|\n",
            "|    75%|              0.798|\n",
            "|    max|                1.0|\n",
            "+-------+-------------------+\n",
            "\n"
          ]
        }
      ]
    },
    {
      "cell_type": "markdown",
      "source": [
        "### Ringkasan Statistik kolom Valence"
      ],
      "metadata": {
        "id": "AR27_JIjX3Hh"
      }
    },
    {
      "cell_type": "code",
      "source": [
        "valence_summary = spark_df.select('Valence').summary()\n",
        "valence_summary.show()"
      ],
      "metadata": {
        "colab": {
          "base_uri": "https://localhost:8080/",
          "height": 0
        },
        "id": "lR_eJb-KX9DR",
        "outputId": "ca01fbfa-d299-4d0f-e743-40a1b9b1bc68"
      },
      "execution_count": 15,
      "outputs": [
        {
          "output_type": "stream",
          "name": "stdout",
          "text": [
            "+-------+-------------------+\n",
            "|summary|            Valence|\n",
            "+-------+-------------------+\n",
            "|  count|              20716|\n",
            "|   mean| 0.5298533240007718|\n",
            "| stddev|0.24544080882666014|\n",
            "|    min|                0.0|\n",
            "|    25%|              0.339|\n",
            "|    50%|              0.537|\n",
            "|    75%|              0.726|\n",
            "|    max|              0.993|\n",
            "+-------+-------------------+\n",
            "\n"
          ]
        }
      ]
    },
    {
      "cell_type": "markdown",
      "source": [
        "### Identifikasi dan berikan daftar 5 lagu dengan 'Speechiness' tertinggi, lalu berikan analisis singkat tentang karakteristik musik dari lagu-lagu ini."
      ],
      "metadata": {
        "id": "oD0jTZtna8Pe"
      }
    },
    {
      "cell_type": "code",
      "source": [
        "from pyspark.sql.functions import asc, desc\n",
        "\n",
        "highest_speechiness = spark_df.sort(desc('Speechiness'))\n",
        "highest_speechiness.show(5)"
      ],
      "metadata": {
        "colab": {
          "base_uri": "https://localhost:8080/",
          "height": 0
        },
        "id": "S_-iVvqhbRzn",
        "outputId": "5a061d7d-f6b7-4efe-c4fa-217763a98aae"
      },
      "execution_count": 16,
      "outputs": [
        {
          "output_type": "stream",
          "name": "stdout",
          "text": [
            "+------+--------------------+--------------------+--------------------+--------------------+----------+--------------------+------------+------+---+--------+-----------+------------+----------------+--------+-------+------+-----------+--------------------+--------------------+--------------------+-------+-----+--------+--------+--------------+--------+\n",
            "|Number|              Artist|         Url_spotify|               Track|               Album|Album_type|                 Uri|Danceability|Energy|Key|Loudness|Speechiness|Acousticness|Instrumentalness|Liveness|Valence| Tempo|Duration_ms|         Url_youtube|               Title|             Channel|  Views|Likes|Comments|Licensed|official_video|  Stream|\n",
            "+------+--------------------+--------------------+--------------------+--------------------+----------+--------------------+------------+------+---+--------+-----------+------------+----------------+--------+-------+------+-----------+--------------------+--------------------+--------------------+-------+-----+--------+--------+--------------+--------+\n",
            "|  5158|Sir Arthur Conan ...|https://open.spot...|Teil 7 - Sherlock...|Sherlock Holmes u...|     album|spotify:track:1TZ...|       0.625| 0.257|1.0| -15.375|      0.964|       0.115|             0.0|   0.283|  0.349|170.97|   180202.0|https://www.youtu...|Sherlock Holmes e...|    audioraccontando|27263.0|535.0|    14.0|    true|          true| 10540.0|\n",
            "|  5152|Sir Arthur Conan ...|https://open.spot...|Teil 1 - Sherlock...|Sherlock Holmes u...|     album|spotify:track:7uS...|       0.641| 0.286|3.0| -14.945|      0.962|       0.177|             0.0|   0.371|  0.487|85.538|    92378.0|https://www.youtu...|Sherlock Holmes e...|    audioraccontando|25108.0|418.0|     9.0|    true|          true| 12567.0|\n",
            "|   994|     Bibi Blocksberg|https://open.spot...|Kapitel 11: Der H...|Folge 146: Der He...|     album|spotify:track:66u...|       0.694|   0.2|5.0| -18.887|      0.961|       0.792|             0.0|   0.663|  0.463|139.38|    93900.0|                 NaN|                 NaN|                 NaN|    NaN|  NaN|     NaN|     NaN|           NaN|283140.0|\n",
            "|   996|     Bibi Blocksberg|https://open.spot...|Kapitel 09: Der H...|Folge 146: Der He...|     album|spotify:track:0dt...|       0.649| 0.257|1.0| -21.931|      0.961|       0.777|             0.0|   0.358|  0.632|90.661|    94425.0|https://www.youtu...|Bibi Blocksberg -...|  Bibi Blocksberg TV|12010.0|177.0|    44.0|    true|          true|282266.0|\n",
            "| 13418|     Sherlock Holmes|https://open.spot...|Teil 14 - Fall 53...|Die neuen Fälle, ...|     album|spotify:track:5L3...|       0.664| 0.682|8.0| -11.758|       0.96|       0.523|             0.0|   0.183|  0.475|79.168|   201187.0|https://www.youtu...|Die sieben Todsün...|Bookstream Hörbücher|11181.0|202.0|    12.0|    true|          true|102383.0|\n",
            "+------+--------------------+--------------------+--------------------+--------------------+----------+--------------------+------------+------+---+--------+-----------+------------+----------------+--------+-------+------+-----------+--------------------+--------------------+--------------------+-------+-----+--------+--------+--------------+--------+\n",
            "only showing top 5 rows\n",
            "\n"
          ]
        }
      ]
    },
    {
      "cell_type": "markdown",
      "source": [
        "### Analisis:\n",
        "Dari ke 5 track yang muncul diatas kesemuanya adalah audio book, maka dapat diindikasikan bahwa kolom 'Speechiness' mengatur seberapa banyak kata kata yang keluar pada track tersebut, semakin tinggi speechiness nya maka semakin banyak kata kata yang keluar, jika speechiness nya 0 maka lagu tersebut cuma melodi doang nggak ngomong samsek"
      ],
      "metadata": {
        "id": "8Ql6v4NQcj0N"
      }
    },
    {
      "cell_type": "markdown",
      "source": [
        "### Hitung rata-rata dari atribut 'Tempo' lagu-lagu dalam dataset. Berikan insight tentang preferensi tempo dalam dataset ini."
      ],
      "metadata": {
        "id": "pv7NbYDud2cY"
      }
    },
    {
      "cell_type": "code",
      "source": [
        "from pyspark.sql.functions import mean\n",
        "\n",
        "tempo_mean = spark_df.select(mean('Tempo')).collect()[0][0]\n",
        "\n",
        "print(f\"Rata-rata Tempo: {tempo_mean:.2f} BPM\")"
      ],
      "metadata": {
        "colab": {
          "base_uri": "https://localhost:8080/",
          "height": 0
        },
        "id": "2pGewe11cR_f",
        "outputId": "cd61e04d-0a89-4048-dbce-e79327895e8b"
      },
      "execution_count": 17,
      "outputs": [
        {
          "output_type": "stream",
          "name": "stdout",
          "text": [
            "Rata-rata Tempo: 120.64 BPM\n"
          ]
        }
      ]
    },
    {
      "cell_type": "markdown",
      "source": [
        "### Insight:\n",
        "Dataset ini memiliki rata rata tempo sebesar 120 BPM, jadi lagu yang ada di dalam dataset ini memiliki preferensi tempo yang cukup tinggi (banyak jedag jedug)"
      ],
      "metadata": {
        "id": "QSmZlgkBfimi"
      }
    },
    {
      "cell_type": "markdown",
      "source": [
        "### Bandingkan rata-rata durasi lagu untuk lagu-lagu yang memiliki tempo di atas 120 BPM dengan yang di bawah 120 BPM"
      ],
      "metadata": {
        "id": "bN8gge06f4hi"
      }
    },
    {
      "cell_type": "code",
      "source": [
        "from pyspark.sql.functions import col, mean\n",
        "\n",
        "tempo_upper = spark_df.filter(col('Tempo') > 120)\n",
        "tempo_lower = spark_df.filter(col('Tempo') <= 120)\n",
        "upper_mean = tempo_upper.select(mean('Duration_ms')).collect()[0][0]\n",
        "lower_mean = tempo_lower.select(mean('Duration_ms')).collect()[0][0]\n",
        "\n",
        "print(f\"Rata rata durasi tempo diatas 120 adalah: {upper_mean:.2f} ms\")\n",
        "print(f\"Rata rata durasi tempo dibawah 120 adalah: {lower_mean:.2f} ms\")\n"
      ],
      "metadata": {
        "colab": {
          "base_uri": "https://localhost:8080/",
          "height": 0
        },
        "id": "tSO1-mlxgDM9",
        "outputId": "26f8d26a-e3b4-402b-f3ad-a3b3c675f38d"
      },
      "execution_count": 18,
      "outputs": [
        {
          "output_type": "stream",
          "name": "stdout",
          "text": [
            "Rata rata durasi tempo diatas 120 adalah: 221485.59 ms\n",
            "Rata rata durasi tempo dibawah 120 adalah: 227857.30 ms\n"
          ]
        }
      ]
    },
    {
      "cell_type": "markdown",
      "source": [
        "### Temukan lagu-lagu dengan tingkat speechiness di atas 0.5 dan analisis apakah terdapat korelasi antara speechiness dan jumlah komentar di YouTube."
      ],
      "metadata": {
        "id": "ORHeg7WfhoLX"
      }
    },
    {
      "cell_type": "code",
      "source": [
        "import matplotlib.pyplot as plt\n",
        "\n",
        "high_speechiness_songs = spark_df.filter(col('Speechiness') > 0.5)\n",
        "\n",
        "# Ambil data 'Speechiness' dan 'Comments' dari DataFrame 'high_speechiness_songs'\n",
        "speechiness = high_speechiness_songs.select('Speechiness').rdd.flatMap(lambda x: x).collect()\n",
        "comments = high_speechiness_songs.select('Comments').rdd.flatMap(lambda x: x).collect()\n",
        "\n",
        "\n",
        "# Buat scatter plot\n",
        "plt.scatter(speechiness, comments, alpha=0.5)\n",
        "plt.xlabel('Speechiness')\n",
        "plt.ylabel('Comments')\n",
        "plt.title('Scatter Plot: Korelasi antara Speechiness dan Comments')\n",
        "\n",
        "# Tampilkan scatter plot\n",
        "plt.show()\n"
      ],
      "metadata": {
        "colab": {
          "base_uri": "https://localhost:8080/",
          "height": 472
        },
        "id": "US_KaZbCg7EH",
        "outputId": "82c8370a-e804-440c-b848-7394f71503aa"
      },
      "execution_count": 19,
      "outputs": [
        {
          "output_type": "display_data",
          "data": {
            "text/plain": [
              "<Figure size 640x480 with 1 Axes>"
            ],
            "image/png": "[encoded data removed]"
          },
          "metadata": {}
        }
      ]
    },
    {
      "cell_type": "markdown",
      "source": [
        "### Analisa\n",
        "Berdasarkan scatter plot diatas terlihat sebaran data tidak konsisten, artinya tidak ada korelasi antara banyaknya kata kata pada sebuah track dengan jumlah komentar pada youtube."
      ],
      "metadata": {
        "id": "u9d9PtzenGa7"
      }
    },
    {
      "cell_type": "markdown",
      "source": [
        "## Terapkan setidaknya 3 operasi RDD pada data tersebut seperti reduceByKey, sortByKey, flatMap, dll. lalu berikan analisisnya. ( SCPMK 1532205 point 10)"
      ],
      "metadata": {
        "id": "zikmLJqUoBmW"
      }
    },
    {
      "cell_type": "markdown",
      "source": [
        "### Sebelum diproses saya melakukan drop kolom yang tidak diperlukan terlebih dahulu"
      ],
      "metadata": {
        "id": "hc_KOMJ6eF42"
      }
    },
    {
      "cell_type": "code",
      "source": [
        "columns_to_drop = [\"Url_spotify\", \"Uri\", \"Url_youtube\", \"official_video\", \"Title\", \"Licensed\"]\n",
        "spark_df = spark_df.drop(*columns_to_drop)"
      ],
      "metadata": {
        "id": "vpHFHOsudg7s"
      },
      "execution_count": 20,
      "outputs": []
    },
    {
      "cell_type": "code",
      "source": [
        "rdd_data = spark_df.rdd"
      ],
      "metadata": {
        "id": "pNprzzixodF4"
      },
      "execution_count": 21,
      "outputs": []
    },
    {
      "cell_type": "markdown",
      "source": [
        "### reduceByKey"
      ],
      "metadata": {
        "id": "tx8hM9XvplZ2"
      }
    },
    {
      "cell_type": "code",
      "source": [
        "artist_comment_counts = rdd_data.map(lambda x: (x['Artist'], (x['Comments'], 1)))\n",
        "total_comment_counts = artist_comment_counts.reduceByKey(lambda x, y: (x[0] + y[0], x[1] + y[1]))\n",
        "average_comments = total_comment_counts.map(lambda x: (x[0], x[1][0] / x[1][1]))\n",
        "sorted_artists_by_comments = average_comments.sortBy(lambda x: x[1], ascending=False)\n",
        "for i in sorted_artists_by_comments.take(10):\n",
        "  print(i)"
      ],
      "metadata": {
        "colab": {
          "base_uri": "https://localhost:8080/",
          "height": 0
        },
        "id": "hdp38LHkpnbr",
        "outputId": "9be986c3-41da-4cbc-9993-8315f18bdd70"
      },
      "execution_count": 22,
      "outputs": [
        {
          "output_type": "stream",
          "name": "stdout",
          "text": [
            "('BTS', 3954265.9)\n",
            "('BLACKPINK', 1960502.7)\n",
            "('Stray Kids', 845836.5)\n",
            "('TWICE', 838498.5)\n",
            "('PSY', 731160.8)\n",
            "('Justin Bieber', 725912.0)\n",
            "('EXO', 698195.0)\n",
            "('Halsey', 698166.1)\n",
            "('One Direction', 636089.2)\n",
            "('Luis Fonsi', 470342.8)\n"
          ]
        }
      ]
    },
    {
      "cell_type": "markdown",
      "source": [
        "### Analisa:\n",
        "Pada kode diatas saya menggunakan reduceByKey untuk menghitung rata rata dari jumlah komen di youtube untuk setiap artist, bisa dilihat bahwa yang masuk top 10 dari hasil ini kebanyakan adalah artis k-pop, dan juga ada fakta bahwa gap rata rata nomor 1 ke nomor 2 terbilang cukup jauh, maka analisa saya adalah, para k-poper ini memang suka melakukan komentar pada kanal youtube artis favorite mereka"
      ],
      "metadata": {
        "id": "ECQMG4wltYbp"
      }
    },
    {
      "cell_type": "markdown",
      "source": [
        "### sortByKey"
      ],
      "metadata": {
        "id": "GDtVCYD4oaIS"
      }
    },
    {
      "cell_type": "code",
      "source": [
        "# Mengurutkan data berdasarkan 'Views' secara descending\n",
        "sorted_data = rdd_data.map(lambda x: (x['Views'], x)).sortByKey(ascending=False)\n",
        "\n",
        "for i in sorted_data.take(5):\n",
        "  print(i[1])"
      ],
      "metadata": {
        "colab": {
          "base_uri": "https://localhost:8080/",
          "height": 0
        },
        "id": "ugboiQ_yn1y3",
        "outputId": "40f6367a-ae38-48d9-ca97-d5b9579152b6"
      },
      "execution_count": 23,
      "outputs": [
        {
          "output_type": "stream",
          "name": "stdout",
          "text": [
            "Row(Number=1147, Artist='Luis Fonsi', Track='Despacito', Album='VIDA', Album_type='album', Danceability=0.655, Energy=0.797, Key=2.0, Loudness=-4.787, Speechiness=0.153, Acousticness=0.198, Instrumentalness=0.0, Liveness=0.067, Valence=0.839, Tempo=177.928, Duration_ms=229360.0, Channel='LuisFonsiVEVO', Views=8079649362.0, Likes=50788652.0, Comments=4252791.0, Stream=1506598267.0)\n",
            "Row(Number=365, Artist='Daddy Yankee', Track='Despacito', Album='VIDA', Album_type='album', Danceability=0.655, Energy=0.797, Key=2.0, Loudness=-4.787, Speechiness=0.153, Acousticness=0.198, Instrumentalness=0.0, Liveness=0.067, Valence=0.839, Tempo=177.928, Duration_ms=229360.0, Channel='LuisFonsiVEVO', Views=8079646911.0, Likes=50788626.0, Comments=4252791.0, Stream=1506598267.0)\n",
            "Row(Number=12452, Artist='Ed Sheeran', Track='Shape of You', Album='÷ (Deluxe)', Album_type='album', Danceability=0.825, Energy=0.652, Key=1.0, Loudness=-3.183, Speechiness=0.0802, Acousticness=0.581, Instrumentalness=0.0, Liveness=0.0931, Valence=0.931, Tempo=95.977, Duration_ms=233713.0, Channel='Ed Sheeran', Views=5908398479.0, Likes=31047780.0, Comments=1130327.0, Stream=3362005201.0)\n",
            "Row(Number=14580, Artist='Charlie Puth', Track='See You Again (feat. Charlie Puth)', Album='See You Again (feat. Charlie Puth)', Album_type='single', Danceability=0.689, Energy=0.481, Key=10.0, Loudness=-7.503, Speechiness=0.0815, Acousticness=0.369, Instrumentalness=1.03e-06, Liveness=0.0649, Valence=0.283, Tempo=80.025, Duration_ms=229526.0, Channel='Wiz Khalifa Music', Views=5773798407.0, Likes=40147674.0, Comments=2127346.0, Stream=1521254554.0)\n",
            "Row(Number=12469, Artist='Wiz Khalifa', Track='See You Again (feat. Charlie Puth)', Album='See You Again (feat. Charlie Puth)', Album_type='single', Danceability=0.689, Energy=0.481, Key=10.0, Loudness=-7.503, Speechiness=0.0815, Acousticness=0.369, Instrumentalness=1.03e-06, Liveness=0.0649, Valence=0.283, Tempo=80.025, Duration_ms=229526.0, Channel='Wiz Khalifa Music', Views=5773797147.0, Likes=40147618.0, Comments=2127345.0, Stream=1521254554.0)\n"
          ]
        }
      ]
    },
    {
      "cell_type": "markdown",
      "source": [
        "### Analisa:\n",
        "Kode diatas mengurutkan baris berdasarkan jumlah views pada platform youtube, jika dilihat dari hasilnya sepertinya tidak ada korelasi khusus antara kolom views dengan kolom lainnya, faktor yang mungkin dapat mempengaruhi views adalah popularitas dari artisnya dan juga sensasi keviralan lagunya."
      ],
      "metadata": {
        "id": "kebLnVurUnUy"
      }
    },
    {
      "cell_type": "markdown",
      "source": [
        "### filter"
      ],
      "metadata": {
        "id": "IkcJt5B_pMtd"
      }
    },
    {
      "cell_type": "code",
      "source": [
        "ultra_danceable = rdd_data.filter(lambda x: x['Danceability'] > 0.9)\n",
        "\n",
        "for i in ultra_danceable.take(10):\n",
        "  print(i)"
      ],
      "metadata": {
        "colab": {
          "base_uri": "https://localhost:8080/",
          "height": 0
        },
        "id": "moOQIoHPoqcd",
        "outputId": "c4cb26d9-1eb7-4935-c980-caf2ebe51ad7"
      },
      "execution_count": 24,
      "outputs": [
        {
          "output_type": "stream",
          "name": "stdout",
          "text": [
            "Row(Number=20, Artist='50 Cent', Track='In Da Club', Album=\"Get Rich Or Die Tryin'\", Album_type='album', Danceability=0.902, Energy=0.72, Key=6.0, Loudness=-2.776, Speechiness=0.347, Acousticness=0.26, Instrumentalness=0.0, Liveness=0.0749, Valence=0.805, Tempo=90.059, Duration_ms=193467.0, Channel='50CentVEVO', Views=1682616458.0, Likes=10481678.0, Comments=296745.0, Stream=1041736808.0)\n",
            "Row(Number=25, Artist='50 Cent', Track='Disco Inferno', Album='The Massacre', Album_type='album', Danceability=0.925, Energy=0.659, Key=3.0, Loudness=-4.763, Speechiness=0.231, Acousticness=0.206, Instrumentalness=7.88e-05, Liveness=0.279, Valence=0.71, Tempo=97.018, Duration_ms=214227.0, Channel='50CentVEVO', Views=39825951.0, Likes=382791.0, Comments=12038.0, Stream=202477187.0)\n",
            "Row(Number=54, Artist='Daft Punk', Track='Around the World', Album='Homework', Album_type='album', Danceability=0.956, Energy=0.795, Key=7.0, Loudness=-5.311, Speechiness=0.15, Acousticness=0.00356, Instrumentalness=0.889, Liveness=0.0906, Valence=0.841, Tempo=121.294, Duration_ms=429533.0, Channel='Daft Punk', Views=38218353.0, Likes=466569.0, Comments=11904.0, Stream=293417547.0)\n",
            "Row(Number=94, Artist='Black Eyed Peas', Track='GIRL LIKE ME', Album='TRANSLATION', Album_type='album', Danceability=0.965, Energy=0.485, Key=2.0, Loudness=-8.784, Speechiness=0.191, Acousticness=0.0206, Instrumentalness=0.0237, Liveness=0.0655, Valence=0.312, Tempo=124.025, Duration_ms=222523.0, Channel='BlackEyedPeasVEVO', Views=662529115.0, Likes=5488829.0, Comments=222922.0, Stream=453923193.0)\n",
            "Row(Number=100, Artist='Michael Jackson', Track='Billie Jean', Album='Thriller', Album_type='album', Danceability=0.932, Energy=0.457, Key=11.0, Loudness=-9.62, Speechiness=0.0541, Acousticness=0.0173, Instrumentalness=0.0436, Liveness=0.0414, Valence=0.884, Tempo=117.002, Duration_ms=294227.0, Channel='michaeljacksonVEVO', Views=1300732161.0, Likes=9523245.0, Comments=508425.0, Stream=1302677366.0)\n",
            "Row(Number=121, Artist='Eminem', Track='Without Me', Album='The Eminem Show', Album_type='album', Danceability=0.908, Energy=0.669, Key=7.0, Loudness=-2.827, Speechiness=0.0738, Acousticness=0.00286, Instrumentalness=0.0, Liveness=0.237, Valence=0.662, Tempo=112.238, Duration_ms=290320.0, Channel='EminemVEVO', Views=1590485349.0, Likes=11469490.0, Comments=341006.0, Stream=1457351902.0)\n",
            "Row(Number=122, Artist='Eminem', Track='The Real Slim Shady', Album='The Marshall Mathers LP', Album_type='album', Danceability=0.949, Energy=0.661, Key=5.0, Loudness=-4.244, Speechiness=0.0572, Acousticness=0.0302, Instrumentalness=0.0, Liveness=0.0454, Valence=0.76, Tempo=104.504, Duration_ms=284200.0, Channel='EminemVEVO', Views=777507160.0, Likes=6489755.0, Comments=169037.0, Stream=1232567233.0)\n",
            "Row(Number=141, Artist='Khalid', Track='Numb', Album='Numb', Album_type='single', Danceability=0.912, Energy=0.774, Key=0.0, Loudness=-4.673, Speechiness=0.0455, Acousticness=0.121, Instrumentalness=0.0127, Liveness=0.101, Valence=0.632, Tempo=119.966, Duration_ms=155589.0, Channel='MarshmelloVEVO', Views=25212794.0, Likes=418647.0, Comments=7041.0, Stream=203066841.0)\n",
            "Row(Number=201, Artist='Sean Paul', Track='Temperature', Album='The Trinity', Album_type='album', Danceability=0.951, Energy=0.6, Key=0.0, Loudness=-4.675, Speechiness=0.0685, Acousticness=0.106, Instrumentalness=0.0, Liveness=0.0712, Valence=0.822, Tempo=125.04, Duration_ms=218573.0, Channel='Atlantic Records', Views=361314925.0, Likes=2124819.0, Comments=38673.0, Stream=590578908.0)\n",
            "Row(Number=220, Artist='2Pac', Track=\"Hit 'Em Up - Single Version\", Album='Greatest Hits', Album_type='compilation', Danceability=0.916, Energy=0.844, Key=7.0, Loudness=-3.967, Speechiness=0.236, Acousticness=0.0394, Instrumentalness=0.0, Liveness=0.0778, Valence=0.586, Tempo=95.19, Duration_ms=312627.0, Channel='Seven Hip-Hop', Views=585712131.0, Likes=4363164.0, Comments=208460.0, Stream=375955728.0)\n"
          ]
        }
      ]
    },
    {
      "cell_type": "markdown",
      "source": [
        "### Analisa:\n",
        "Lagu-lagu dengan tingkat danceability tinggi dapat ditemukan di berbagai genre dan sering dikaitkan dengan artis-artis populer. Mereka cenderung memiliki video musik yang menarik, menghasilkan likes dan komentar, dan dapat memiliki tempo yang berbeda-beda. Danceability adalah elemen penting dalam menciptakan musik yang mendorong orang untuk bergerak dan menari, sehingga menjadikannya fitur yang berharga di industri musik."
      ],
      "metadata": {
        "id": "ynuzknljtwLJ"
      }
    }
  ]
}